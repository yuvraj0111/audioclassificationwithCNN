{
 "cells": [
  {
   "cell_type": "code",
   "execution_count": 1,
   "metadata": {
    "_cell_guid": "b1076dfc-b9ad-4769-8c92-a6c4dae69d19",
    "_uuid": "8f2839f25d086af736a60e9eeb907d3b93b6e0e5",
    "execution": {
     "iopub.execute_input": "2022-05-09T12:27:25.320614Z",
     "iopub.status.busy": "2022-05-09T12:27:25.319743Z",
     "iopub.status.idle": "2022-05-09T12:27:35.396098Z",
     "shell.execute_reply": "2022-05-09T12:27:35.395098Z",
     "shell.execute_reply.started": "2022-05-09T12:27:25.320473Z"
    }
   },
   "outputs": [],
   "source": [
    "import warnings\n",
    "warnings.filterwarnings('ignore')\n",
    "import numpy as np\n",
    "import pandas as pd\n",
    "from sklearn.model_selection import train_test_split\n",
    "import tensorflow as tf\n",
    "config = tf.compat.v1.ConfigProto()\n",
    "config.gpu_options.allow_growth = True\n",
    "from tensorflow.keras import models,layers\n",
    "import librosa\n",
    "import pickle\n",
    "import os\n",
    "import json\n",
    "from tqdm import tqdm\n",
    "import cv2\n",
    "import matplotlib.pyplot as plt\n",
    "from tensorflow.keras.models import Sequential\n",
    "from tensorflow.keras.layers import Dense, Activation, Dropout, Concatenate, Flatten, MaxPooling2D, Conv2D\n",
    "os.environ['TF_FORCE_GPU_ALLOW_GROWTH'] = 'true'"
   ]
  },
  {
   "cell_type": "code",
   "execution_count": 12,
   "metadata": {},
   "outputs": [],
   "source": [
    "path='C:/Users/Yuvraj/Downloads/birdclef-2022/birds2/'"
   ]
  },
  {
   "cell_type": "code",
   "execution_count": 3,
   "metadata": {
    "execution": {
     "iopub.execute_input": "2022-05-09T12:27:35.413514Z",
     "iopub.status.busy": "2022-05-09T12:27:35.413100Z",
     "iopub.status.idle": "2022-05-09T12:27:35.427012Z",
     "shell.execute_reply": "2022-05-09T12:27:35.426294Z",
     "shell.execute_reply.started": "2022-05-09T12:27:35.413483Z"
    }
   },
   "outputs": [],
   "source": [
    "def openAudioFile(path, sample_rate=44100, as_mono=True, mean_substract=False):\n",
    "    \n",
    "    sig, rate = librosa.load(path, sr=sample_rate, mono=as_mono)\n",
    "    if mean_substract:\n",
    "        sig -= sig.mean()\n",
    "    return sig, rate"
   ]
  },
  {
   "cell_type": "code",
   "execution_count": 37,
   "metadata": {
    "execution": {
     "iopub.execute_input": "2022-05-09T12:27:35.429232Z",
     "iopub.status.busy": "2022-05-09T12:27:35.428761Z",
     "iopub.status.idle": "2022-05-09T12:27:35.441029Z",
     "shell.execute_reply": "2022-05-09T12:27:35.440108Z",
     "shell.execute_reply.started": "2022-05-09T12:27:35.429198Z"
    }
   },
   "outputs": [],
   "source": [
    "def melspec(sig, rate=44100, shape=(224, 224), fmin=20, fmax=20000, normalize=False):\n",
    "\n",
    "    \n",
    "    SAMPLE_RATE = rate  \n",
    "    FMAX = fmax\n",
    "    FMIN = fmin\n",
    "\n",
    "   \n",
    "    # Librosa mel-spectrum\n",
    "    melspec = librosa.feature.melspectrogram(y=sig, sr=SAMPLE_RATE, n_mels=224, fmax=FMAX, fmin=FMIN)\n",
    "    \n",
    "    # Convert power spec to dB scale (compute dB relative to peak power)\n",
    "    melspec = librosa.amplitude_to_db(melspec)\n",
    "\n",
    "    # Normalize values between 0 and 1\n",
    "    if normalize:\n",
    "        melspec -= melspec.min()\n",
    "        if not melspec.max() == 0:\n",
    "            melspec /= melspec.max()\n",
    "        else:\n",
    "            mlspec = np.clip(melspec, 0, 1)\n",
    "\n",
    "    return melspec.astype('float32')\n"
   ]
  },
  {
   "cell_type": "code",
   "execution_count": 6,
   "metadata": {
    "execution": {
     "iopub.execute_input": "2022-05-09T12:27:36.658086Z",
     "iopub.status.busy": "2022-05-09T12:27:36.657379Z",
     "iopub.status.idle": "2022-05-09T12:27:36.664977Z",
     "shell.execute_reply": "2022-05-09T12:27:36.664220Z",
     "shell.execute_reply.started": "2022-05-09T12:27:36.658015Z"
    }
   },
   "outputs": [],
   "source": [
    "def splitSignal(sig, rate, seconds, minlen):\n",
    "\n",
    "    \n",
    "    sig_splits = []\n",
    "    for i in range(0, len(sig), int((seconds) * rate)):\n",
    "        split = sig[i:i + int(seconds * rate)]\n",
    "        \n",
    "        if len(split) < int(minlen * rate):\n",
    "            break\n",
    "        \n",
    "        \n",
    "        if len(split) < int(rate * seconds):\n",
    "            split = np.hstack((split, np.zeros((int(rate * seconds) - len(split),))))\n",
    "        \n",
    "        sig_splits.append(split)\n",
    "\n",
    "    return sig_splits"
   ]
  },
  {
   "cell_type": "code",
   "execution_count": 7,
   "metadata": {
    "execution": {
     "iopub.execute_input": "2022-05-09T12:27:50.766058Z",
     "iopub.status.busy": "2022-05-09T12:27:50.765457Z",
     "iopub.status.idle": "2022-05-09T12:27:50.772684Z",
     "shell.execute_reply": "2022-05-09T12:27:50.772034Z",
     "shell.execute_reply.started": "2022-05-09T12:27:50.766008Z"
    }
   },
   "outputs": [],
   "source": [
    "with open(r'C:\\Users\\Yuvraj\\Downloads\\birdclef-2022\\scored_birds.json') as sbfile:\n",
    "    scored_birds = json.load(sbfile)"
   ]
  },
  {
   "cell_type": "code",
   "execution_count": 8,
   "metadata": {},
   "outputs": [
    {
     "data": {
      "text/plain": [
       "['akiapo',\n",
       " 'aniani',\n",
       " 'apapan',\n",
       " 'barpet',\n",
       " 'crehon',\n",
       " 'elepai',\n",
       " 'ercfra',\n",
       " 'hawama',\n",
       " 'hawcre',\n",
       " 'hawgoo',\n",
       " 'hawhaw',\n",
       " 'hawpet1',\n",
       " 'houfin',\n",
       " 'iiwi',\n",
       " 'jabwar',\n",
       " 'maupar',\n",
       " 'omao',\n",
       " 'puaioh',\n",
       " 'skylar',\n",
       " 'warwhe1',\n",
       " 'yefcan']"
      ]
     },
     "execution_count": 8,
     "metadata": {},
     "output_type": "execute_result"
    }
   ],
   "source": [
    "scored_birds"
   ]
  },
  {
   "cell_type": "code",
   "execution_count": 44,
   "metadata": {},
   "outputs": [],
   "source": [
    "def mono_to_color(X, eps=1e-6, mean=None, std=None):\n",
    "   \n",
    "    X = np.stack([X, X, X], axis=-1)\n",
    "\n",
    "    # Standardize\n",
    "    mean = mean or X.mean()\n",
    "    std = std or X.std()\n",
    "    X = (X - mean) / (std + eps)\n",
    "\n",
    "    # Normalize to [0, 255]\n",
    "    _min, _max = X.min(), X.max()\n",
    "\n",
    "    if (_max - _min) > eps:\n",
    "        V = np.clip(X, _min, _max)\n",
    "        V = 255 * (V - _min) / (_max - _min)\n",
    "        V = V.astype(np.uint8)\n",
    "    else:\n",
    "        V = np.zeros_like(X, dtype=np.uint8)\n",
    "\n",
    "    V=cv2.resize(V,(224,224))\n",
    "    return V"
   ]
  },
  {
   "cell_type": "code",
   "execution_count": 63,
   "metadata": {
    "execution": {
     "iopub.execute_input": "2022-05-09T12:28:13.113949Z",
     "iopub.status.busy": "2022-05-09T12:28:13.113365Z",
     "iopub.status.idle": "2022-05-09T13:22:13.438026Z",
     "shell.execute_reply": "2022-05-09T13:22:13.436781Z",
     "shell.execute_reply.started": "2022-05-09T12:28:13.113890Z"
    }
   },
   "outputs": [
    {
     "name": "stderr",
     "output_type": "stream",
     "text": [
      "100%|████████████████████████████████████████████████████████████████████████████████| 152/152 [52:33<00:00, 20.75s/it]\n"
     ]
    }
   ],
   "source": [
    "train_audio_dir = r'C:\\Users\\Yuvraj\\Downloads\\birdclef-2022\\train_audio'\n",
    "if not os.path.exists(path):\n",
    "    os.mkdir(path)\n",
    "\n",
    "for dir in tqdm(os.listdir(train_audio_dir)):\n",
    "    if dir in scored_birds:\n",
    "        if not os.path.exists(path+dir):\n",
    "            os.mkdir(path+dir)\n",
    "        count=1\n",
    "        for file in os.listdir(train_audio_dir+'/'+dir):\n",
    "            path__=train_audio_dir+\"/\"+dir+\"/\"+file\n",
    "            audio_data,audio_sample_rate=openAudioFile(path__)\n",
    "            si=splitSignal(audio_data,audio_sample_rate,5,5)\n",
    "            for sig in si:\n",
    "                path__=os.path.join(path+dir,str(count)+'.jpg')\n",
    "                m_spec=melspec(sig)\n",
    "                cv2.imwrite(path__,mono_to_color(m_spec))\n",
    "                count=count+1"
   ]
  },
  {
   "cell_type": "code",
   "execution_count": 90,
   "metadata": {
    "execution": {
     "iopub.execute_input": "2022-05-09T10:49:10.649380Z",
     "iopub.status.busy": "2022-05-09T10:49:10.648950Z",
     "iopub.status.idle": "2022-05-09T10:49:18.436381Z",
     "shell.execute_reply": "2022-05-09T10:49:18.435467Z",
     "shell.execute_reply.started": "2022-05-09T10:49:10.649335Z"
    }
   },
   "outputs": [],
   "source": [
    "pre_model=tf.keras.applications.mobilenet.MobileNet(\n",
    "    input_shape=(224,224,3),\n",
    "    include_top=False,\n",
    "    weights='imagenet')"
   ]
  },
  {
   "cell_type": "code",
   "execution_count": 91,
   "metadata": {
    "execution": {
     "iopub.execute_input": "2022-05-09T10:51:05.935411Z",
     "iopub.status.busy": "2022-05-09T10:51:05.934737Z",
     "iopub.status.idle": "2022-05-09T10:51:05.971411Z",
     "shell.execute_reply": "2022-05-09T10:51:05.970116Z",
     "shell.execute_reply.started": "2022-05-09T10:51:05.935366Z"
    }
   },
   "outputs": [],
   "source": [
    "pre_model.trainable=False"
   ]
  },
  {
   "cell_type": "code",
   "execution_count": 92,
   "metadata": {
    "execution": {
     "iopub.execute_input": "2022-05-09T10:52:02.214368Z",
     "iopub.status.busy": "2022-05-09T10:52:02.213460Z",
     "iopub.status.idle": "2022-05-09T10:52:04.572639Z",
     "shell.execute_reply": "2022-05-09T10:52:04.571951Z",
     "shell.execute_reply.started": "2022-05-09T10:52:02.214320Z"
    }
   },
   "outputs": [],
   "source": [
    "model=models.Sequential()\n",
    "model.add(pre_model)\n",
    "model.add(MaxPooling2D(name=\"MaxPool_\"))\n",
    "model.add(Dropout(0.3, name=\"dropout_out\"))\n",
    "model.add(Flatten())\n",
    "model.add(Dense(21, activation='softmax'))"
   ]
  },
  {
   "cell_type": "code",
   "execution_count": 93,
   "metadata": {
    "execution": {
     "iopub.execute_input": "2022-05-09T10:52:13.657906Z",
     "iopub.status.busy": "2022-05-09T10:52:13.657334Z",
     "iopub.status.idle": "2022-05-09T10:52:13.716030Z",
     "shell.execute_reply": "2022-05-09T10:52:13.715028Z",
     "shell.execute_reply.started": "2022-05-09T10:52:13.657865Z"
    }
   },
   "outputs": [
    {
     "name": "stdout",
     "output_type": "stream",
     "text": [
      "Model: \"sequential_1\"\n",
      "_________________________________________________________________\n",
      "Layer (type)                 Output Shape              Param #   \n",
      "=================================================================\n",
      "mobilenet_1.00_224 (Function (None, 7, 7, 1024)        3228864   \n",
      "_________________________________________________________________\n",
      "MaxPool_ (MaxPooling2D)      (None, 3, 3, 1024)        0         \n",
      "_________________________________________________________________\n",
      "dropout_out (Dropout)        (None, 3, 3, 1024)        0         \n",
      "_________________________________________________________________\n",
      "flatten_1 (Flatten)          (None, 9216)              0         \n",
      "_________________________________________________________________\n",
      "dense_1 (Dense)              (None, 21)                193557    \n",
      "=================================================================\n",
      "Total params: 3,422,421\n",
      "Trainable params: 193,557\n",
      "Non-trainable params: 3,228,864\n",
      "_________________________________________________________________\n"
     ]
    }
   ],
   "source": [
    "model.summary()"
   ]
  },
  {
   "cell_type": "code",
   "execution_count": 94,
   "metadata": {},
   "outputs": [],
   "source": [
    "model.compile(loss='categorical_crossentropy',\n",
    "                  optimizer='Adam',\n",
    "                  metrics=['accuracy'])"
   ]
  },
  {
   "cell_type": "code",
   "execution_count": 68,
   "metadata": {
    "execution": {
     "iopub.execute_input": "2022-05-09T10:55:53.868055Z",
     "iopub.status.busy": "2022-05-09T10:55:53.867246Z",
     "iopub.status.idle": "2022-05-09T10:55:53.897318Z",
     "shell.execute_reply": "2022-05-09T10:55:53.896590Z",
     "shell.execute_reply.started": "2022-05-09T10:55:53.868005Z"
    }
   },
   "outputs": [
    {
     "name": "stdout",
     "output_type": "stream",
     "text": [
      "145\n",
      "83\n",
      "493\n",
      "195\n",
      "23\n",
      "131\n",
      "11\n",
      "140\n",
      "484\n",
      "41\n",
      "52\n",
      "32\n",
      "3260\n",
      "418\n",
      "803\n",
      "49\n",
      "224\n",
      "7\n",
      "5296\n",
      "500\n",
      "427\n",
      "5296\n"
     ]
    }
   ],
   "source": [
    "a=0\n",
    "for x in os.listdir(path):\n",
    "    a=max(a,len(os.listdir(path+x)))\n",
    "    print(len(os.listdir(path+x)))\n",
    "print(a)"
   ]
  },
  {
   "cell_type": "code",
   "execution_count": 95,
   "metadata": {
    "execution": {
     "iopub.status.busy": "2022-05-09T12:26:07.071489Z",
     "iopub.status.idle": "2022-05-09T12:26:07.071993Z",
     "shell.execute_reply": "2022-05-09T12:26:07.071765Z",
     "shell.execute_reply.started": "2022-05-09T12:26:07.071737Z"
    }
   },
   "outputs": [],
   "source": [
    "images=[] #for images of all classes\n",
    "\n",
    "for dir in os.listdir(path):\n",
    "    dir_images=[os.path.join(path,dir,im_path) for im_path in os.listdir(path+dir)]\n",
    "    np.random.shuffle(dir_images)\n",
    "    \n",
    "    count=len(dir_images)\n",
    "    #max 1000 samples of each class\n",
    "    if count>1000:\n",
    "        images=images+dir_images[:1000]\n",
    "    else:\n",
    "        images=images+dir_images\n",
    "\n",
    "    #min images should be more than or equal to 500 other wise add duplicate images of same class\n",
    "    while count<500:\n",
    "        images=images+[dir_images[np.random.randint(len(dir_images))]]\n",
    "        count+=1\n",
    "\n",
    "for i in range(len(images)):\n",
    "    path_=images[i]\n",
    "    class_=path_[46:]\n",
    "    class_=class_.split('\\\\')[0]\n",
    "    images[i]=(path_,class_)\n",
    "    \n",
    "np.random.shuffle(images)\n",
    "\n",
    "\n",
    "vsplit = int(len(images) * .20)\n",
    "train = images[:-vsplit]\n",
    "val = images[-vsplit:]\n"
   ]
  },
  {
   "cell_type": "code",
   "execution_count": 70,
   "metadata": {},
   "outputs": [
    {
     "data": {
      "text/plain": [
       "11803"
      ]
     },
     "execution_count": 70,
     "metadata": {},
     "output_type": "execute_result"
    }
   ],
   "source": [
    "len(images)"
   ]
  },
  {
   "cell_type": "code",
   "execution_count": 71,
   "metadata": {},
   "outputs": [
    {
     "data": {
      "text/plain": [
       "'warwhe1'"
      ]
     },
     "execution_count": 71,
     "metadata": {},
     "output_type": "execute_result"
    }
   ],
   "source": [
    "s='warwhe1\\\\62.jpg'\n",
    "s.split('\\\\')[0]"
   ]
  },
  {
   "cell_type": "code",
   "execution_count": 96,
   "metadata": {},
   "outputs": [],
   "source": [
    "import math\n",
    "class batchGenerator(tf.keras.utils.Sequence):\n",
    "\n",
    "    def __init__(self, x_set, batch_size):\n",
    "        self.x = x_set\n",
    "        self.batch_size = batch_size\n",
    "\n",
    "    def __len__(self):\n",
    "        return math.ceil(len(self.x) / self.batch_size)\n",
    "\n",
    "    def __getitem__(self, idx):\n",
    "        batch_x = []\n",
    "        batch_y = []\n",
    "        for item in self.x[idx * self.batch_size:(idx + 1) * self.batch_size]:\n",
    "            path,class_=item\n",
    "            frame=cv2.imread(path)\n",
    "            #frame=cv2.resize(frame,(64,64))   \n",
    "            img=(np.asarray(frame)/255.0)    \n",
    "            batch_x.append(img)\n",
    "            y=[0]*21\n",
    "            y[scored_birds.index(class_)]=1\n",
    "            y=np.array(y)\n",
    "            batch_y.append(y)\n",
    "\n",
    "        batch_x = np.asarray(batch_x)\n",
    "        batch_x = batch_x.astype(np.float32)\n",
    "        return np.array(batch_x),np.asarray(batch_y)"
   ]
  },
  {
   "cell_type": "code",
   "execution_count": 76,
   "metadata": {},
   "outputs": [],
   "source": [
    "obj=batchGenerator(train,32)"
   ]
  },
  {
   "cell_type": "code",
   "execution_count": 77,
   "metadata": {},
   "outputs": [
    {
     "data": {
      "text/plain": [
       "(array([[[[0.7019608 , 0.7019608 , 0.7019608 ],\n",
       "          [0.6784314 , 0.6784314 , 0.6784314 ],\n",
       "          [0.75686276, 0.75686276, 0.75686276],\n",
       "          ...,\n",
       "          [0.7137255 , 0.7137255 , 0.7137255 ],\n",
       "          [0.69803923, 0.69803923, 0.69803923],\n",
       "          [0.64705884, 0.64705884, 0.64705884]],\n",
       " \n",
       "         [[0.67058825, 0.67058825, 0.67058825],\n",
       "          [0.6392157 , 0.6392157 , 0.6392157 ],\n",
       "          [0.7372549 , 0.7372549 , 0.7372549 ],\n",
       "          ...,\n",
       "          [0.70980394, 0.70980394, 0.70980394],\n",
       "          [0.6901961 , 0.6901961 , 0.6901961 ],\n",
       "          [0.60784316, 0.60784316, 0.60784316]],\n",
       " \n",
       "         [[0.6392157 , 0.6392157 , 0.6392157 ],\n",
       "          [0.5764706 , 0.5764706 , 0.5764706 ],\n",
       "          [0.72156864, 0.72156864, 0.72156864],\n",
       "          ...,\n",
       "          [0.6745098 , 0.6745098 , 0.6745098 ],\n",
       "          [0.6509804 , 0.6509804 , 0.6509804 ],\n",
       "          [0.54509807, 0.54509807, 0.54509807]],\n",
       " \n",
       "         ...,\n",
       " \n",
       "         [[0.21568628, 0.21568628, 0.21568628],\n",
       "          [0.        , 0.        , 0.        ],\n",
       "          [0.        , 0.        , 0.        ],\n",
       "          ...,\n",
       "          [0.        , 0.        , 0.        ],\n",
       "          [0.        , 0.        , 0.        ],\n",
       "          [0.05098039, 0.05098039, 0.05098039]],\n",
       " \n",
       "         [[0.21568628, 0.21568628, 0.21568628],\n",
       "          [0.        , 0.        , 0.        ],\n",
       "          [0.        , 0.        , 0.        ],\n",
       "          ...,\n",
       "          [0.        , 0.        , 0.        ],\n",
       "          [0.        , 0.        , 0.        ],\n",
       "          [0.04705882, 0.04705882, 0.04705882]],\n",
       " \n",
       "         [[0.21176471, 0.21176471, 0.21176471],\n",
       "          [0.        , 0.        , 0.        ],\n",
       "          [0.        , 0.        , 0.        ],\n",
       "          ...,\n",
       "          [0.        , 0.        , 0.        ],\n",
       "          [0.        , 0.        , 0.        ],\n",
       "          [0.04705882, 0.04705882, 0.04705882]]],\n",
       " \n",
       " \n",
       "        [[[0.30980393, 0.30980393, 0.30980393],\n",
       "          [0.15294118, 0.15294118, 0.15294118],\n",
       "          [0.09019608, 0.09019608, 0.09019608],\n",
       "          ...,\n",
       "          [0.11372549, 0.11372549, 0.11372549],\n",
       "          [0.15686275, 0.15686275, 0.15686275],\n",
       "          [0.28627452, 0.28627452, 0.28627452]],\n",
       " \n",
       "         [[0.2901961 , 0.2901961 , 0.2901961 ],\n",
       "          [0.19215687, 0.19215687, 0.19215687],\n",
       "          [0.32156864, 0.32156864, 0.32156864],\n",
       "          ...,\n",
       "          [0.23137255, 0.23137255, 0.23137255],\n",
       "          [0.26666668, 0.26666668, 0.26666668],\n",
       "          [0.26666668, 0.26666668, 0.26666668]],\n",
       " \n",
       "         [[0.27058825, 0.27058825, 0.27058825],\n",
       "          [0.24705882, 0.24705882, 0.24705882],\n",
       "          [0.33333334, 0.33333334, 0.33333334],\n",
       "          ...,\n",
       "          [0.36078432, 0.36078432, 0.36078432],\n",
       "          [0.3137255 , 0.3137255 , 0.3137255 ],\n",
       "          [0.28627452, 0.28627452, 0.28627452]],\n",
       " \n",
       "         ...,\n",
       " \n",
       "         [[0.10196079, 0.10196079, 0.10196079],\n",
       "          [0.        , 0.        , 0.        ],\n",
       "          [0.        , 0.        , 0.        ],\n",
       "          ...,\n",
       "          [0.        , 0.        , 0.        ],\n",
       "          [0.        , 0.        , 0.        ],\n",
       "          [0.07058824, 0.07058824, 0.07058824]],\n",
       " \n",
       "         [[0.09803922, 0.09803922, 0.09803922],\n",
       "          [0.        , 0.        , 0.        ],\n",
       "          [0.        , 0.        , 0.        ],\n",
       "          ...,\n",
       "          [0.        , 0.        , 0.        ],\n",
       "          [0.        , 0.        , 0.        ],\n",
       "          [0.07058824, 0.07058824, 0.07058824]],\n",
       " \n",
       "         [[0.09803922, 0.09803922, 0.09803922],\n",
       "          [0.        , 0.        , 0.        ],\n",
       "          [0.        , 0.        , 0.        ],\n",
       "          ...,\n",
       "          [0.        , 0.        , 0.        ],\n",
       "          [0.        , 0.        , 0.        ],\n",
       "          [0.07058824, 0.07058824, 0.07058824]]],\n",
       " \n",
       " \n",
       "        [[[0.        , 0.        , 0.        ],\n",
       "          [0.        , 0.        , 0.        ],\n",
       "          [0.        , 0.        , 0.        ],\n",
       "          ...,\n",
       "          [0.        , 0.        , 0.        ],\n",
       "          [0.        , 0.        , 0.        ],\n",
       "          [0.01960784, 0.01960784, 0.01960784]],\n",
       " \n",
       "         [[0.        , 0.        , 0.        ],\n",
       "          [0.        , 0.        , 0.        ],\n",
       "          [0.00392157, 0.00392157, 0.00392157],\n",
       "          ...,\n",
       "          [0.        , 0.        , 0.        ],\n",
       "          [0.        , 0.        , 0.        ],\n",
       "          [0.01960784, 0.01960784, 0.01960784]],\n",
       " \n",
       "         [[0.        , 0.        , 0.        ],\n",
       "          [0.        , 0.        , 0.        ],\n",
       "          [0.01568628, 0.01568628, 0.01568628],\n",
       "          ...,\n",
       "          [0.        , 0.        , 0.        ],\n",
       "          [0.        , 0.        , 0.        ],\n",
       "          [0.01960784, 0.01960784, 0.01960784]],\n",
       " \n",
       "         ...,\n",
       " \n",
       "         [[0.        , 0.        , 0.        ],\n",
       "          [0.        , 0.        , 0.        ],\n",
       "          [0.        , 0.        , 0.        ],\n",
       "          ...,\n",
       "          [0.        , 0.        , 0.        ],\n",
       "          [0.        , 0.        , 0.        ],\n",
       "          [0.        , 0.        , 0.        ]],\n",
       " \n",
       "         [[0.        , 0.        , 0.        ],\n",
       "          [0.        , 0.        , 0.        ],\n",
       "          [0.        , 0.        , 0.        ],\n",
       "          ...,\n",
       "          [0.        , 0.        , 0.        ],\n",
       "          [0.        , 0.        , 0.        ],\n",
       "          [0.        , 0.        , 0.        ]],\n",
       " \n",
       "         [[0.        , 0.        , 0.        ],\n",
       "          [0.        , 0.        , 0.        ],\n",
       "          [0.        , 0.        , 0.        ],\n",
       "          ...,\n",
       "          [0.        , 0.        , 0.        ],\n",
       "          [0.        , 0.        , 0.        ],\n",
       "          [0.        , 0.        , 0.        ]]],\n",
       " \n",
       " \n",
       "        ...,\n",
       " \n",
       " \n",
       "        [[[0.01568628, 0.01568628, 0.01568628],\n",
       "          [0.        , 0.        , 0.        ],\n",
       "          [0.        , 0.        , 0.        ],\n",
       "          ...,\n",
       "          [0.        , 0.        , 0.        ],\n",
       "          [0.        , 0.        , 0.        ],\n",
       "          [0.        , 0.        , 0.        ]],\n",
       " \n",
       "         [[0.01568628, 0.01568628, 0.01568628],\n",
       "          [0.        , 0.        , 0.        ],\n",
       "          [0.        , 0.        , 0.        ],\n",
       "          ...,\n",
       "          [0.        , 0.        , 0.        ],\n",
       "          [0.        , 0.        , 0.        ],\n",
       "          [0.        , 0.        , 0.        ]],\n",
       " \n",
       "         [[0.01568628, 0.01568628, 0.01568628],\n",
       "          [0.        , 0.        , 0.        ],\n",
       "          [0.        , 0.        , 0.        ],\n",
       "          ...,\n",
       "          [0.        , 0.        , 0.        ],\n",
       "          [0.        , 0.        , 0.        ],\n",
       "          [0.        , 0.        , 0.        ]],\n",
       " \n",
       "         ...,\n",
       " \n",
       "         [[0.        , 0.        , 0.        ],\n",
       "          [0.        , 0.        , 0.        ],\n",
       "          [0.        , 0.        , 0.        ],\n",
       "          ...,\n",
       "          [0.        , 0.        , 0.        ],\n",
       "          [0.        , 0.        , 0.        ],\n",
       "          [0.        , 0.        , 0.        ]],\n",
       " \n",
       "         [[0.        , 0.        , 0.        ],\n",
       "          [0.        , 0.        , 0.        ],\n",
       "          [0.        , 0.        , 0.        ],\n",
       "          ...,\n",
       "          [0.        , 0.        , 0.        ],\n",
       "          [0.        , 0.        , 0.        ],\n",
       "          [0.        , 0.        , 0.        ]],\n",
       " \n",
       "         [[0.        , 0.        , 0.        ],\n",
       "          [0.        , 0.        , 0.        ],\n",
       "          [0.        , 0.        , 0.        ],\n",
       "          ...,\n",
       "          [0.        , 0.        , 0.        ],\n",
       "          [0.        , 0.        , 0.        ],\n",
       "          [0.        , 0.        , 0.        ]]],\n",
       " \n",
       " \n",
       "        [[[0.5921569 , 0.5921569 , 0.5921569 ],\n",
       "          [0.52156866, 0.52156866, 0.52156866],\n",
       "          [0.47058824, 0.47058824, 0.47058824],\n",
       "          ...,\n",
       "          [0.46666667, 0.46666667, 0.46666667],\n",
       "          [0.4392157 , 0.4392157 , 0.4392157 ],\n",
       "          [0.45882353, 0.45882353, 0.45882353]],\n",
       " \n",
       "         [[0.61960787, 0.61960787, 0.61960787],\n",
       "          [0.5568628 , 0.5568628 , 0.5568628 ],\n",
       "          [0.43529412, 0.43529412, 0.43529412],\n",
       "          ...,\n",
       "          [0.42352942, 0.42352942, 0.42352942],\n",
       "          [0.30588236, 0.30588236, 0.30588236],\n",
       "          [0.39215687, 0.39215687, 0.39215687]],\n",
       " \n",
       "         [[0.63529414, 0.63529414, 0.63529414],\n",
       "          [0.54509807, 0.54509807, 0.54509807],\n",
       "          [0.47843137, 0.47843137, 0.47843137],\n",
       "          ...,\n",
       "          [0.45490196, 0.45490196, 0.45490196],\n",
       "          [0.3529412 , 0.3529412 , 0.3529412 ],\n",
       "          [0.39215687, 0.39215687, 0.39215687]],\n",
       " \n",
       "         ...,\n",
       " \n",
       "         [[0.        , 0.        , 0.        ],\n",
       "          [0.        , 0.        , 0.        ],\n",
       "          [0.        , 0.        , 0.        ],\n",
       "          ...,\n",
       "          [0.00392157, 0.00392157, 0.00392157],\n",
       "          [0.        , 0.        , 0.        ],\n",
       "          [0.16078432, 0.16078432, 0.16078432]],\n",
       " \n",
       "         [[0.        , 0.        , 0.        ],\n",
       "          [0.        , 0.        , 0.        ],\n",
       "          [0.        , 0.        , 0.        ],\n",
       "          ...,\n",
       "          [0.        , 0.        , 0.        ],\n",
       "          [0.        , 0.        , 0.        ],\n",
       "          [0.16078432, 0.16078432, 0.16078432]],\n",
       " \n",
       "         [[0.        , 0.        , 0.        ],\n",
       "          [0.        , 0.        , 0.        ],\n",
       "          [0.        , 0.        , 0.        ],\n",
       "          ...,\n",
       "          [0.        , 0.        , 0.        ],\n",
       "          [0.        , 0.        , 0.        ],\n",
       "          [0.16078432, 0.16078432, 0.16078432]]],\n",
       " \n",
       " \n",
       "        [[[0.89411765, 0.89411765, 0.89411765],\n",
       "          [0.8627451 , 0.8627451 , 0.8627451 ],\n",
       "          [0.9137255 , 0.9137255 , 0.9137255 ],\n",
       "          ...,\n",
       "          [0.7764706 , 0.7764706 , 0.7764706 ],\n",
       "          [0.8862745 , 0.8862745 , 0.8862745 ],\n",
       "          [0.9647059 , 0.9647059 , 0.9647059 ]],\n",
       " \n",
       "         [[0.84705883, 0.84705883, 0.84705883],\n",
       "          [0.74509805, 0.74509805, 0.74509805],\n",
       "          [0.8627451 , 0.8627451 , 0.8627451 ],\n",
       "          ...,\n",
       "          [0.72156864, 0.72156864, 0.72156864],\n",
       "          [0.84313726, 0.84313726, 0.84313726],\n",
       "          [0.9019608 , 0.9019608 , 0.9019608 ]],\n",
       " \n",
       "         [[0.7411765 , 0.7411765 , 0.7411765 ],\n",
       "          [0.6666667 , 0.6666667 , 0.6666667 ],\n",
       "          [0.64705884, 0.64705884, 0.64705884],\n",
       "          ...,\n",
       "          [0.61960787, 0.61960787, 0.61960787],\n",
       "          [0.7411765 , 0.7411765 , 0.7411765 ],\n",
       "          [0.7882353 , 0.7882353 , 0.7882353 ]],\n",
       " \n",
       "         ...,\n",
       " \n",
       "         [[0.03137255, 0.03137255, 0.03137255],\n",
       "          [0.        , 0.        , 0.        ],\n",
       "          [0.        , 0.        , 0.        ],\n",
       "          ...,\n",
       "          [0.        , 0.        , 0.        ],\n",
       "          [0.        , 0.        , 0.        ],\n",
       "          [0.        , 0.        , 0.        ]],\n",
       " \n",
       "         [[0.03137255, 0.03137255, 0.03137255],\n",
       "          [0.        , 0.        , 0.        ],\n",
       "          [0.        , 0.        , 0.        ],\n",
       "          ...,\n",
       "          [0.        , 0.        , 0.        ],\n",
       "          [0.        , 0.        , 0.        ],\n",
       "          [0.        , 0.        , 0.        ]],\n",
       " \n",
       "         [[0.03137255, 0.03137255, 0.03137255],\n",
       "          [0.        , 0.        , 0.        ],\n",
       "          [0.        , 0.        , 0.        ],\n",
       "          ...,\n",
       "          [0.        , 0.        , 0.        ],\n",
       "          [0.        , 0.        , 0.        ],\n",
       "          [0.        , 0.        , 0.        ]]]], dtype=float32),\n",
       " array([[0, 0, 0, 0, 0, 0, 0, 0, 0, 0, 1, 0, 0, 0, 0, 0, 0, 0, 0, 0, 0],\n",
       "        [0, 0, 0, 0, 0, 0, 0, 0, 0, 0, 0, 0, 0, 0, 1, 0, 0, 0, 0, 0, 0],\n",
       "        [0, 0, 0, 0, 0, 0, 0, 0, 0, 0, 0, 0, 1, 0, 0, 0, 0, 0, 0, 0, 0],\n",
       "        [0, 0, 0, 0, 0, 0, 0, 0, 0, 0, 0, 0, 0, 0, 0, 0, 0, 0, 0, 0, 1],\n",
       "        [0, 0, 0, 0, 0, 0, 1, 0, 0, 0, 0, 0, 0, 0, 0, 0, 0, 0, 0, 0, 0],\n",
       "        [0, 0, 0, 0, 0, 0, 0, 0, 0, 0, 0, 0, 0, 0, 0, 0, 0, 0, 1, 0, 0],\n",
       "        [0, 0, 0, 0, 0, 0, 0, 0, 0, 0, 0, 0, 0, 0, 0, 1, 0, 0, 0, 0, 0],\n",
       "        [0, 0, 0, 0, 0, 1, 0, 0, 0, 0, 0, 0, 0, 0, 0, 0, 0, 0, 0, 0, 0],\n",
       "        [0, 0, 0, 1, 0, 0, 0, 0, 0, 0, 0, 0, 0, 0, 0, 0, 0, 0, 0, 0, 0],\n",
       "        [0, 0, 0, 0, 0, 0, 0, 0, 0, 0, 0, 0, 0, 0, 1, 0, 0, 0, 0, 0, 0],\n",
       "        [0, 0, 0, 0, 0, 0, 1, 0, 0, 0, 0, 0, 0, 0, 0, 0, 0, 0, 0, 0, 0],\n",
       "        [0, 0, 0, 0, 0, 0, 0, 0, 0, 0, 1, 0, 0, 0, 0, 0, 0, 0, 0, 0, 0],\n",
       "        [0, 0, 0, 0, 0, 0, 0, 0, 1, 0, 0, 0, 0, 0, 0, 0, 0, 0, 0, 0, 0],\n",
       "        [0, 0, 0, 0, 0, 0, 0, 1, 0, 0, 0, 0, 0, 0, 0, 0, 0, 0, 0, 0, 0],\n",
       "        [0, 0, 0, 0, 0, 0, 1, 0, 0, 0, 0, 0, 0, 0, 0, 0, 0, 0, 0, 0, 0],\n",
       "        [0, 0, 0, 0, 0, 0, 0, 0, 0, 0, 0, 0, 0, 0, 0, 0, 0, 0, 1, 0, 0],\n",
       "        [0, 0, 0, 1, 0, 0, 0, 0, 0, 0, 0, 0, 0, 0, 0, 0, 0, 0, 0, 0, 0],\n",
       "        [0, 0, 0, 0, 0, 0, 0, 0, 0, 0, 0, 0, 0, 0, 0, 1, 0, 0, 0, 0, 0],\n",
       "        [0, 0, 0, 0, 0, 0, 0, 0, 0, 0, 0, 0, 0, 0, 0, 1, 0, 0, 0, 0, 0],\n",
       "        [0, 0, 1, 0, 0, 0, 0, 0, 0, 0, 0, 0, 0, 0, 0, 0, 0, 0, 0, 0, 0],\n",
       "        [0, 0, 0, 0, 0, 0, 0, 0, 0, 0, 0, 0, 0, 0, 0, 0, 0, 1, 0, 0, 0],\n",
       "        [0, 0, 0, 0, 0, 1, 0, 0, 0, 0, 0, 0, 0, 0, 0, 0, 0, 0, 0, 0, 0],\n",
       "        [0, 0, 0, 0, 0, 0, 0, 0, 0, 0, 0, 0, 0, 0, 0, 0, 0, 0, 0, 0, 1],\n",
       "        [0, 0, 0, 0, 0, 0, 0, 0, 0, 0, 0, 0, 0, 0, 0, 0, 0, 1, 0, 0, 0],\n",
       "        [0, 0, 0, 0, 0, 0, 0, 0, 0, 1, 0, 0, 0, 0, 0, 0, 0, 0, 0, 0, 0],\n",
       "        [0, 0, 0, 0, 0, 0, 0, 0, 0, 0, 0, 0, 1, 0, 0, 0, 0, 0, 0, 0, 0],\n",
       "        [0, 0, 0, 0, 0, 0, 0, 0, 0, 0, 0, 0, 0, 0, 0, 0, 0, 1, 0, 0, 0],\n",
       "        [0, 0, 0, 0, 0, 0, 0, 0, 0, 0, 0, 0, 0, 0, 0, 0, 0, 0, 1, 0, 0],\n",
       "        [0, 0, 0, 0, 0, 0, 0, 1, 0, 0, 0, 0, 0, 0, 0, 0, 0, 0, 0, 0, 0],\n",
       "        [0, 0, 0, 0, 0, 0, 0, 0, 0, 0, 0, 0, 0, 0, 0, 0, 0, 0, 0, 0, 1],\n",
       "        [0, 1, 0, 0, 0, 0, 0, 0, 0, 0, 0, 0, 0, 0, 0, 0, 0, 0, 0, 0, 0],\n",
       "        [0, 0, 0, 0, 0, 0, 1, 0, 0, 0, 0, 0, 0, 0, 0, 0, 0, 0, 0, 0, 0]]))"
      ]
     },
     "execution_count": 77,
     "metadata": {},
     "output_type": "execute_result"
    }
   ],
   "source": [
    "obj.__getitem__(0)"
   ]
  },
  {
   "cell_type": "code",
   "execution_count": 97,
   "metadata": {},
   "outputs": [
    {
     "data": {
      "text/plain": [
       "95.33"
      ]
     },
     "execution_count": 97,
     "metadata": {},
     "output_type": "execute_result"
    }
   ],
   "source": [
    "len(train)/100"
   ]
  },
  {
   "cell_type": "code",
   "execution_count": 97,
   "metadata": {},
   "outputs": [
    {
     "name": "stdout",
     "output_type": "stream",
     "text": [
      "Epoch 1/10\n",
      "296/296 [==============================] - 103s 336ms/step - loss: 2.9115 - accuracy: 0.5737 - val_loss: 0.7716 - val_accuracy: 0.8411\n",
      "Epoch 2/10\n",
      "296/296 [==============================] - 88s 297ms/step - loss: 0.5336 - accuracy: 0.8831 - val_loss: 0.8660 - val_accuracy: 0.8331\n",
      "Epoch 3/10\n",
      "296/296 [==============================] - 82s 276ms/step - loss: 0.3554 - accuracy: 0.9155 - val_loss: 0.7033 - val_accuracy: 0.8814\n",
      "Epoch 4/10\n",
      "296/296 [==============================] - 85s 288ms/step - loss: 0.2410 - accuracy: 0.9398 - val_loss: 0.5792 - val_accuracy: 0.9025\n",
      "Epoch 5/10\n",
      "296/296 [==============================] - 85s 286ms/step - loss: 0.1855 - accuracy: 0.9537 - val_loss: 0.7868 - val_accuracy: 0.8818\n",
      "Epoch 6/10\n",
      "296/296 [==============================] - 80s 270ms/step - loss: 0.2174 - accuracy: 0.9525 - val_loss: 0.5775 - val_accuracy: 0.9059\n",
      "Epoch 7/10\n",
      "296/296 [==============================] - 80s 269ms/step - loss: 0.1754 - accuracy: 0.9575 - val_loss: 0.9408 - val_accuracy: 0.8737\n",
      "Epoch 8/10\n",
      "296/296 [==============================] - 77s 261ms/step - loss: 0.1823 - accuracy: 0.9577 - val_loss: 0.7595 - val_accuracy: 0.9068\n",
      "Epoch 9/10\n",
      "296/296 [==============================] - 82s 277ms/step - loss: 0.1562 - accuracy: 0.9641 - val_loss: 0.8222 - val_accuracy: 0.8962\n",
      "Epoch 10/10\n",
      "296/296 [==============================] - 135s 455ms/step - loss: 0.1720 - accuracy: 0.9652 - val_loss: 0.7469 - val_accuracy: 0.9072\n"
     ]
    }
   ],
   "source": [
    "history=model.fit(batchGenerator(train,32),epochs=10,validation_data=batchGenerator(val,32),batch_size=32)"
   ]
  },
  {
   "cell_type": "code",
   "execution_count": 98,
   "metadata": {},
   "outputs": [],
   "source": [
    "model.save('audio_model2.h5')"
   ]
  },
  {
   "cell_type": "code",
   "execution_count": 99,
   "metadata": {},
   "outputs": [
    {
     "data": {
      "text/plain": [
       "array([[1.4915972e-24, 3.3183236e-20, 1.2387266e-15, 1.9406895e-30,\n",
       "        0.0000000e+00, 1.0404151e-13, 8.6370153e-33, 7.2327162e-29,\n",
       "        1.0954826e-27, 1.4292243e-29, 3.7894574e-27, 4.9303665e-36,\n",
       "        8.9203757e-01, 9.6247316e-13, 6.9617740e-12, 1.9943220e-28,\n",
       "        6.2537410e-28, 0.0000000e+00, 9.0626429e-10, 2.0301230e-12,\n",
       "        1.0796244e-01]], dtype=float32)"
      ]
     },
     "execution_count": 99,
     "metadata": {},
     "output_type": "execute_result"
    }
   ],
   "source": [
    "im=cv2.imread('C:/Users/Yuvraj/Downloads/birdclef-2022/birds2/houfin\\\\10.jpg')\n",
    "im=im/255.0\n",
    "model.predict(np.array([im,]))"
   ]
  },
  {
   "cell_type": "code",
   "execution_count": 84,
   "metadata": {},
   "outputs": [
    {
     "data": {
      "text/plain": [
       "['akiapo',\n",
       " 'aniani',\n",
       " 'apapan',\n",
       " 'barpet',\n",
       " 'crehon',\n",
       " 'elepai',\n",
       " 'ercfra',\n",
       " 'hawama',\n",
       " 'hawcre',\n",
       " 'hawgoo',\n",
       " 'hawhaw',\n",
       " 'hawpet1',\n",
       " 'houfin',\n",
       " 'iiwi',\n",
       " 'jabwar',\n",
       " 'maupar',\n",
       " 'omao',\n",
       " 'puaioh',\n",
       " 'skylar',\n",
       " 'warwhe1',\n",
       " 'yefcan']"
      ]
     },
     "execution_count": 84,
     "metadata": {},
     "output_type": "execute_result"
    }
   ],
   "source": [
    "scored_birds"
   ]
  }
 ],
 "metadata": {
  "kernelspec": {
   "display_name": "Python 3",
   "language": "python",
   "name": "python3"
  },
  "language_info": {
   "codemirror_mode": {
    "name": "ipython",
    "version": 3
   },
   "file_extension": ".py",
   "mimetype": "text/x-python",
   "name": "python",
   "nbconvert_exporter": "python",
   "pygments_lexer": "ipython3",
   "version": "3.8.8"
  }
 },
 "nbformat": 4,
 "nbformat_minor": 4
}
